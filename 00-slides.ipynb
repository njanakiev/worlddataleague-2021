{
 "cells": [
  {
   "cell_type": "markdown",
   "metadata": {
    "slideshow": {
     "slide_type": "slide"
    }
   },
   "source": [
    "# Working and Analysing OpenStreetMap\n",
    "\n",
    "## for Data Science Projects\n",
    "\n",
    "by Nikolai Janakiev [@njanakiev](https://twitter.com/njanakiev/)"
   ]
  },
  {
   "cell_type": "markdown",
   "metadata": {
    "slideshow": {
     "slide_type": "slide"
    }
   },
   "source": [
    "# OpenStreetMap"
   ]
  },
  {
   "cell_type": "markdown",
   "metadata": {
    "slideshow": {
     "slide_type": "fragment"
    }
   },
   "source": [
    "![](assets/osm.png)"
   ]
  },
  {
   "cell_type": "markdown",
   "metadata": {
    "slideshow": {
     "slide_type": "slide"
    }
   },
   "source": [
    "# OpenStreetMap in Numbers ([Source](https://www.openstreetmap.org/stats/data_stats.html))\n",
    "\n",
    "- __Started 2004__\n",
    "- Number of users: __7.393.705__\n",
    "- Number of uploaded GPS points: __8.554.200.885__\n",
    "- Number of nodes: __6.849.901.910__\n",
    "- Number of ways: __759.507.867__\n",
    "- Number of relations: __8.873.864__"
   ]
  },
  {
   "cell_type": "markdown",
   "metadata": {
    "slideshow": {
     "slide_type": "slide"
    }
   },
   "source": [
    "# OpenStreetMap Elements"
   ]
  },
  {
   "cell_type": "markdown",
   "metadata": {
    "slideshow": {
     "slide_type": "fragment"
    }
   },
   "source": [
    "![](assets/osm_elements.png)"
   ]
  },
  {
   "cell_type": "markdown",
   "metadata": {
    "slideshow": {
     "slide_type": "slide"
    }
   },
   "source": [
    "# Data Structure of OpenStreetMap\n",
    "\n",
    "- Stored as XML file, typically found compressed as [Protocol Buffers](https://developers.google.com/protocol-buffers)."
   ]
  },
  {
   "cell_type": "markdown",
   "metadata": {
    "slideshow": {
     "slide_type": "fragment"
    }
   },
   "source": [
    "```xml\n",
    "<?xml version='1.0' encoding='UTF-8'?>\n",
    "<osm version=\"0.6\" generator=\"osmium/1.8.0\">\n",
    "  <bounds minlat=\"47.04774\" minlon=\"9.471078\" maxlat=\"47.27128\" maxlon=\"9.636217\"/>\n",
    "  <node id=\"26863444\" version=\"6\" timestamp=\"2019-05-19T15:23:01Z\" lat=\"47.1666716\" lon=\"9.5608307\">\n",
    "    <tag k=\"ele\" v=\"2122\"/>\n",
    "    <tag k=\"name\" v=\"Kuhgrat\"/>\n",
    "    <tag k=\"natural\" v=\"peak\"/>\n",
    "    <tag k=\"wikidata\" v=\"Q4244296\"/>\n",
    "  </node>\n",
    "  ...\n",
    "```"
   ]
  },
  {
   "cell_type": "markdown",
   "metadata": {
    "slideshow": {
     "slide_type": "slide"
    }
   },
   "source": [
    "# OpenStreetMap Ways\n",
    "\n",
    "```xml\n",
    "  <way id=\"4781367\" version=\"3\" timestamp=\"2012-05-14T16:51:34Z\">\n",
    "    <nd ref=\"30604007\"/>\n",
    "    <nd ref=\"1752681738\"/>\n",
    "    <nd ref=\"30604015\"/>\n",
    "    <nd ref=\"30604017\"/>\n",
    "    <nd ref=\"30604019\"/>\n",
    "    <nd ref=\"1752681852\"/>\n",
    "    <nd ref=\"1752681861\"/>\n",
    "    <nd ref=\"30604020\"/>\n",
    "    <nd ref=\"1743684563\"/>\n",
    "    <tag k=\"name\" v=\"In den Äusseren\"/>\n",
    "    <tag k=\"highway\" v=\"residential\"/>\n",
    "  </way>\n",
    "  ...\n",
    "```"
   ]
  },
  {
   "cell_type": "markdown",
   "metadata": {
    "slideshow": {
     "slide_type": "slide"
    }
   },
   "source": [
    "# OpenStreetMap Relations\n",
    "\n",
    "```xml\n",
    "  <relation id=\"12473573\" version=\"1\" timestamp=\"2021-03-21T14:35:25Z\">\n",
    "    <member type=\"way\" ref=\"920149763\" role=\"inner\"/>\n",
    "    <member type=\"way\" ref=\"44963556\" role=\"outer\"/>\n",
    "    <tag k=\"addr:city\" v=\"Triesen\"/>\n",
    "    <tag k=\"addr:country\" v=\"LI\"/>\n",
    "    <tag k=\"addr:housenumber\" v=\"16\"/>\n",
    "    <tag k=\"addr:postcode\" v=\"9495\"/>\n",
    "    <tag k=\"addr:street\" v=\"Gässle\"/>\n",
    "    <tag k=\"amenity\" v=\"school\"/>\n",
    "    <tag k=\"building\" v=\"school\"/>\n",
    "    <tag k=\"name\" v=\"Primarschule Triesen\"/>\n",
    "    <tag k=\"type\" v=\"multipolygon\"/>\n",
    "    <tag k=\"wheelchair\" v=\"yes\"/>\n",
    "  </relation>\n",
    "  ...\n",
    "</osm>\n",
    "```"
   ]
  },
  {
   "cell_type": "markdown",
   "metadata": {
    "slideshow": {
     "slide_type": "slide"
    }
   },
   "source": [
    "![OSM Nodes](assets/osm_node_example.png)"
   ]
  },
  {
   "cell_type": "markdown",
   "metadata": {
    "slideshow": {
     "slide_type": "slide"
    }
   },
   "source": [
    "![OSM Ways](assets/osm_way_example.png)"
   ]
  },
  {
   "cell_type": "markdown",
   "metadata": {
    "slideshow": {
     "slide_type": "slide"
    }
   },
   "source": [
    "![OSM Ways](assets/osm_relation_example.png)"
   ]
  },
  {
   "cell_type": "markdown",
   "metadata": {
    "slideshow": {
     "slide_type": "slide"
    }
   },
   "source": [
    "# Search for OpenStreetMap Elements"
   ]
  },
  {
   "cell_type": "markdown",
   "metadata": {
    "slideshow": {
     "slide_type": "fragment"
    }
   },
   "source": [
    "__Nominatim__ ([nominatim.openstreetmap.org](https://nominatim.openstreetmap.org/ui/search.html)) official OpenStreetMap search engine for forward and reverse geographic search."
   ]
  },
  {
   "cell_type": "markdown",
   "metadata": {
    "slideshow": {
     "slide_type": "fragment"
    }
   },
   "source": [
    "Access elements directly via:\n",
    "\n",
    "- `www.openstreetmap.org/node/[OSM_ID]`\n",
    "- `www.openstreetmap.org/way/[OSM_ID]`\n",
    "- `www.openstreetmap.org/relation/[OSM_ID]`"
   ]
  },
  {
   "cell_type": "markdown",
   "metadata": {
    "slideshow": {
     "slide_type": "fragment"
    }
   },
   "source": [
    "__Warnding__: OpenStreetMap ids can change over time!"
   ]
  },
  {
   "cell_type": "markdown",
   "metadata": {
    "slideshow": {
     "slide_type": "slide"
    }
   },
   "source": [
    "# Metadata in OpenStreetMap\n",
    "\n",
    "- Stored as key-value pairs, e.g. [Key:amenity](https://wiki.openstreetmap.org/wiki/Key:amenity)"
   ]
  },
  {
   "cell_type": "markdown",
   "metadata": {
    "slideshow": {
     "slide_type": "fragment"
    }
   },
   "source": [
    "![](assets/osm_key_amenity.png)"
   ]
  },
  {
   "cell_type": "markdown",
   "metadata": {
    "slideshow": {
     "slide_type": "slide"
    }
   },
   "source": [
    "# Loading Data from OpenStreetMap"
   ]
  },
  {
   "cell_type": "markdown",
   "metadata": {
    "slideshow": {
     "slide_type": "slide"
    }
   },
   "source": [
    "# Data Sources"
   ]
  },
  {
   "cell_type": "markdown",
   "metadata": {
    "slideshow": {
     "slide_type": "fragment"
    }
   },
   "source": [
    "- __Planet.osm__ ([planet.openstreetmap.org](https://planet.openstreetmap.org/)) Full OpenStreetMap data set of the whole world\n",
    "    - planet-latest.osm.pbf __(57 GB)__\n",
    "    - planet-latest.osm.bz2 __(102 GB)__"
   ]
  },
  {
   "cell_type": "markdown",
   "metadata": {
    "slideshow": {
     "slide_type": "fragment"
    }
   },
   "source": [
    "- __Geofabrik__ ([download.geofabrik.de](http://download.geofabrik.de/)) Free and regularly updated OpenStreetMap Extracts of various regions around the world "
   ]
  },
  {
   "cell_type": "markdown",
   "metadata": {
    "slideshow": {
     "slide_type": "fragment"
    }
   },
   "source": [
    "- __BBBike__ ([download.bbbike.org](https://download.bbbike.org/))\n",
    "    - [OSM ready extracts](https://download.bbbike.org/osm/bbbike/)\n",
    "    - [OSM cusrom extracts](https://extract.bbbike.org/)"
   ]
  },
  {
   "cell_type": "markdown",
   "metadata": {
    "slideshow": {
     "slide_type": "slide"
    }
   },
   "source": [
    "# TagInfo ([taginfo.openstreetmap.org](https://taginfo.openstreetmap.org/))\n",
    "\n",
    "- Daily updated statistics of OpenStreetMap Tags"
   ]
  },
  {
   "cell_type": "markdown",
   "metadata": {
    "slideshow": {
     "slide_type": "fragment"
    }
   },
   "source": [
    "![](assets/taginfo.png)"
   ]
  },
  {
   "cell_type": "markdown",
   "metadata": {
    "slideshow": {
     "slide_type": "slide"
    }
   },
   "source": [
    "# Overpass API"
   ]
  },
  {
   "cell_type": "code",
   "execution_count": 2,
   "metadata": {
    "slideshow": {
     "slide_type": "fragment"
    }
   },
   "outputs": [
    {
     "data": {
      "text/plain": [
       "{'version': 0.6,\n",
       " 'generator': 'Overpass API 0.7.56.9 76e5016d',\n",
       " 'osm3s': {'timestamp_osm_base': '2021-04-12T08:42:11Z',\n",
       "  'timestamp_areas_base': '2021-04-12T07:52:27Z',\n",
       "  'copyright': 'The data included in this document is from www.openstreetmap.org. The data is made available under ODbL.'},\n",
       " 'elements': [{'type': 'count',\n",
       "   'id': 0,\n",
       "   'tags': {'nodes': '12610',\n",
       "    'ways': '0',\n",
       "    'relations': '0',\n",
       "    'areas': '0',\n",
       "    'total': '12610'}}]}"
      ]
     },
     "execution_count": 2,
     "metadata": {},
     "output_type": "execute_result"
    }
   ],
   "source": [
    "import requests\n",
    "\n",
    "overpass_url = \"http://overpass-api.de/api/interpreter\"\n",
    "overpass_query = \"\"\"\n",
    "    [out:json];\n",
    "    area[\"ISO3166-1\"=\"AT\"][admin_level=2]->.search;\n",
    "    node[amenity=\"restaurant\"](area.search);\n",
    "    out count;\n",
    "\"\"\"\n",
    "response = requests.get(overpass_url, params={'data': overpass_query})\n",
    "response.json()"
   ]
  },
  {
   "cell_type": "markdown",
   "metadata": {
    "slideshow": {
     "slide_type": "slide"
    }
   },
   "source": [
    "# PyOsmium"
   ]
  },
  {
   "cell_type": "code",
   "execution_count": 3,
   "metadata": {
    "slideshow": {
     "slide_type": "fragment"
    }
   },
   "outputs": [
    {
     "name": "stdout",
     "output_type": "stream",
     "text": [
      "Number of Restaurants:  45\n"
     ]
    }
   ],
   "source": [
    "import osmium\n",
    "\n",
    "class RestaurantHandler(osmium.SimpleHandler):\n",
    "    def __init__(self):\n",
    "        osmium.SimpleHandler.__init__(self)\n",
    "        self.num_restaurants = 0\n",
    "\n",
    "    def node(self, n):\n",
    "        if n.tags.get('amenity') == 'restaurant':\n",
    "            self.num_restaurants += 1\n",
    "        \n",
    "handler = RestaurantHandler()\n",
    "handler.apply_file('data/liechtenstein-latest.osm.pbf')\n",
    "print('Number of Restaurants: ', handler.num_restaurants)"
   ]
  },
  {
   "cell_type": "markdown",
   "metadata": {
    "slideshow": {
     "slide_type": "slide"
    }
   },
   "source": [
    "# ogr2ogr"
   ]
  },
  {
   "cell_type": "code",
   "execution_count": 20,
   "metadata": {
    "slideshow": {
     "slide_type": "fragment"
    }
   },
   "outputs": [
    {
     "name": "stdout",
     "output_type": "stream",
     "text": [
      "INFO: Open of `data/Wien.osm.pbf'\r\n",
      "      using driver `OSM' successful.\r\n",
      "1: points (Point)\r\n",
      "2: lines (Line String)\r\n",
      "3: multilinestrings (Multi Line String)\r\n",
      "4: multipolygons (Multi Polygon)\r\n",
      "5: other_relations (Geometry Collection)\r\n"
     ]
    }
   ],
   "source": [
    "!ogrinfo data/Wien.osm.pbf"
   ]
  },
  {
   "cell_type": "markdown",
   "metadata": {
    "slideshow": {
     "slide_type": "slide"
    }
   },
   "source": [
    "# osmconf.ini"
   ]
  },
  {
   "cell_type": "markdown",
   "metadata": {
    "slideshow": {
     "slide_type": "fragment"
    }
   },
   "source": [
    "Find it in Linux when using Anaconda with `find ~/anaconda3/envs/wdl/ | grep osmconf.ini`. In this case under `~/anaconda3/envs/wdl/share/gdal/osmconf.ini`. Default configuration can be seen [here](https://github.com/OSGeo/gdal/blob/master/gdal/data/osmconf.ini)."
   ]
  },
  {
   "cell_type": "markdown",
   "metadata": {
    "slideshow": {
     "slide_type": "fragment"
    }
   },
   "source": [
    "Add desired tags in the `attributes` setting under each layer. Available layers are:\n",
    "\n",
    "- points\n",
    "- lines\n",
    "- multilinestrings\n",
    "- multipolygons\n",
    "- other_relations"
   ]
  },
  {
   "cell_type": "markdown",
   "metadata": {
    "slideshow": {
     "slide_type": "slide"
    }
   },
   "source": [
    "# Convert OpenStreetMap data with ogr2ogr"
   ]
  },
  {
   "cell_type": "markdown",
   "metadata": {
    "slideshow": {
     "slide_type": "fragment"
    }
   },
   "source": [
    "Convert OpenStreetMap data to GeoPackage with:\n",
    "\n",
    "```bash\n",
    "ogr2ogr -f \"GPKG\" \\\n",
    "    data/vienna-amenities.gpkg \\\n",
    "    data/Wien.osm.pbf \\\n",
    "    -where \"amenity is not null\" \\\n",
    "    POINTS \\\n",
    "    -nln amenity\n",
    "```"
   ]
  },
  {
   "cell_type": "markdown",
   "metadata": {
    "slideshow": {
     "slide_type": "slide"
    }
   },
   "source": [
    "# GeoPandas"
   ]
  },
  {
   "cell_type": "markdown",
   "metadata": {
    "slideshow": {
     "slide_type": "fragment"
    }
   },
   "source": [
    "Load geospatial data with [GeoPandas](https://geopandas.org/):"
   ]
  },
  {
   "cell_type": "code",
   "execution_count": 21,
   "metadata": {
    "scrolled": false,
    "slideshow": {
     "slide_type": "fragment"
    }
   },
   "outputs": [
    {
     "data": {
      "text/html": [
       "<div>\n",
       "<style scoped>\n",
       "    .dataframe tbody tr th:only-of-type {\n",
       "        vertical-align: middle;\n",
       "    }\n",
       "\n",
       "    .dataframe tbody tr th {\n",
       "        vertical-align: top;\n",
       "    }\n",
       "\n",
       "    .dataframe thead th {\n",
       "        text-align: right;\n",
       "    }\n",
       "</style>\n",
       "<table border=\"1\" class=\"dataframe\">\n",
       "  <thead>\n",
       "    <tr style=\"text-align: right;\">\n",
       "      <th></th>\n",
       "      <th>osm_id</th>\n",
       "      <th>name</th>\n",
       "      <th>barrier</th>\n",
       "      <th>highway</th>\n",
       "      <th>ref</th>\n",
       "      <th>address</th>\n",
       "      <th>is_in</th>\n",
       "      <th>place</th>\n",
       "      <th>man_made</th>\n",
       "      <th>amenity</th>\n",
       "      <th>other_tags</th>\n",
       "      <th>geometry</th>\n",
       "    </tr>\n",
       "  </thead>\n",
       "  <tbody>\n",
       "    <tr>\n",
       "      <th>0</th>\n",
       "      <td>1634625</td>\n",
       "      <td>None</td>\n",
       "      <td>None</td>\n",
       "      <td>None</td>\n",
       "      <td>None</td>\n",
       "      <td>None</td>\n",
       "      <td>None</td>\n",
       "      <td>None</td>\n",
       "      <td>None</td>\n",
       "      <td>recycling</td>\n",
       "      <td>\"recycling:glass_bottles\"=&gt;\"yes\",\"recycling:gr...</td>\n",
       "      <td>POINT (16.29701 48.18111)</td>\n",
       "    </tr>\n",
       "    <tr>\n",
       "      <th>1</th>\n",
       "      <td>15079895</td>\n",
       "      <td>None</td>\n",
       "      <td>None</td>\n",
       "      <td>None</td>\n",
       "      <td>None</td>\n",
       "      <td>None</td>\n",
       "      <td>None</td>\n",
       "      <td>None</td>\n",
       "      <td>None</td>\n",
       "      <td>telephone</td>\n",
       "      <td>None</td>\n",
       "      <td>POINT (16.28689 48.19691)</td>\n",
       "    </tr>\n",
       "    <tr>\n",
       "      <th>2</th>\n",
       "      <td>15337840</td>\n",
       "      <td>OMV</td>\n",
       "      <td>None</td>\n",
       "      <td>None</td>\n",
       "      <td>None</td>\n",
       "      <td>None</td>\n",
       "      <td>None</td>\n",
       "      <td>None</td>\n",
       "      <td>None</td>\n",
       "      <td>fuel</td>\n",
       "      <td>\"addr:city\"=&gt;\"Wien\",\"addr:country\"=&gt;\"AT\",\"addr...</td>\n",
       "      <td>POINT (16.27995 48.19791)</td>\n",
       "    </tr>\n",
       "    <tr>\n",
       "      <th>3</th>\n",
       "      <td>29801740</td>\n",
       "      <td>McDonald's</td>\n",
       "      <td>None</td>\n",
       "      <td>None</td>\n",
       "      <td>None</td>\n",
       "      <td>None</td>\n",
       "      <td>None</td>\n",
       "      <td>None</td>\n",
       "      <td>None</td>\n",
       "      <td>fast_food</td>\n",
       "      <td>\"addr:city\"=&gt;\"Wien\",\"addr:country\"=&gt;\"AT\",\"addr...</td>\n",
       "      <td>POINT (16.39496 48.23346)</td>\n",
       "    </tr>\n",
       "    <tr>\n",
       "      <th>4</th>\n",
       "      <td>31582372</td>\n",
       "      <td>None</td>\n",
       "      <td>None</td>\n",
       "      <td>None</td>\n",
       "      <td>None</td>\n",
       "      <td>None</td>\n",
       "      <td>None</td>\n",
       "      <td>None</td>\n",
       "      <td>None</td>\n",
       "      <td>parking</td>\n",
       "      <td>\"access\"=&gt;\"private\",\"parking\"=&gt;\"surface\",\"whee...</td>\n",
       "      <td>POINT (16.14163 48.19482)</td>\n",
       "    </tr>\n",
       "  </tbody>\n",
       "</table>\n",
       "</div>"
      ],
      "text/plain": [
       "     osm_id        name barrier highway   ref address is_in place man_made  \\\n",
       "0   1634625        None    None    None  None    None  None  None     None   \n",
       "1  15079895        None    None    None  None    None  None  None     None   \n",
       "2  15337840         OMV    None    None  None    None  None  None     None   \n",
       "3  29801740  McDonald's    None    None  None    None  None  None     None   \n",
       "4  31582372        None    None    None  None    None  None  None     None   \n",
       "\n",
       "     amenity                                         other_tags  \\\n",
       "0  recycling  \"recycling:glass_bottles\"=>\"yes\",\"recycling:gr...   \n",
       "1  telephone                                               None   \n",
       "2       fuel  \"addr:city\"=>\"Wien\",\"addr:country\"=>\"AT\",\"addr...   \n",
       "3  fast_food  \"addr:city\"=>\"Wien\",\"addr:country\"=>\"AT\",\"addr...   \n",
       "4    parking  \"access\"=>\"private\",\"parking\"=>\"surface\",\"whee...   \n",
       "\n",
       "                    geometry  \n",
       "0  POINT (16.29701 48.18111)  \n",
       "1  POINT (16.28689 48.19691)  \n",
       "2  POINT (16.27995 48.19791)  \n",
       "3  POINT (16.39496 48.23346)  \n",
       "4  POINT (16.14163 48.19482)  "
      ]
     },
     "execution_count": 21,
     "metadata": {},
     "output_type": "execute_result"
    }
   ],
   "source": [
    "import geopandas as gpd\n",
    "\n",
    "gdf = gpd.read_file(\"data/vienna-amenities.gpkg\", \n",
    "    driver='GPKG')\n",
    "gdf.head(5)"
   ]
  },
  {
   "cell_type": "markdown",
   "metadata": {
    "slideshow": {
     "slide_type": "slide"
    }
   },
   "source": [
    "# OpenStreetMap Data Completeness"
   ]
  },
  {
   "cell_type": "markdown",
   "metadata": {
    "slideshow": {
     "slide_type": "fragment"
    }
   },
   "source": [
    "- Barrington-Leigh, Christopher, and Adam Millard-Ball. [\"The world’s user-generated road map is more than 80% complete.\"](https://journals.plos.org/plosone/article?id=10.1371/journal.pone.0180698) PloS one 12.8 (2017): e0180698."
   ]
  },
  {
   "cell_type": "markdown",
   "metadata": {
    "slideshow": {
     "slide_type": "fragment"
    }
   },
   "source": [
    "- List of OpenStreetMap Completeness resources: [wiki.openstreetmap.org/wiki/Completeness](https://wiki.openstreetmap.org/wiki/Completeness)"
   ]
  }
 ],
 "metadata": {
  "celltoolbar": "Slideshow",
  "kernelspec": {
   "display_name": "gis",
   "language": "python",
   "name": "gis"
  },
  "language_info": {
   "codemirror_mode": {
    "name": "ipython",
    "version": 3
   },
   "file_extension": ".py",
   "mimetype": "text/x-python",
   "name": "python",
   "nbconvert_exporter": "python",
   "pygments_lexer": "ipython3",
   "version": "3.7.6"
  }
 },
 "nbformat": 4,
 "nbformat_minor": 5
}
