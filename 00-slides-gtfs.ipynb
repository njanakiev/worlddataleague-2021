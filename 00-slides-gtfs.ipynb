{
 "cells": [
  {
   "cell_type": "markdown",
   "id": "7c673516-7d24-4236-bfcf-0e24295028f2",
   "metadata": {
    "slideshow": {
     "slide_type": "slide"
    }
   },
   "source": [
    "# Routing with OpenTripPlanner, OpenStreetMap, and GTFS\n",
    "\n",
    "by Nikolai Janakiev [@njanakiev](https://twitter.com/njanakiev/)\n",
    "\n",
    "- [github.com/njanakiev/worlddataleague-workshop](https://github.com/njanakiev/worlddataleague-workshop)"
   ]
  },
  {
   "cell_type": "code",
   "execution_count": null,
   "id": "7df49bbf",
   "metadata": {
    "slideshow": {
     "slide_type": "skip"
    }
   },
   "outputs": [],
   "source": []
  },
  {
   "cell_type": "markdown",
   "id": "7fb8a6a0",
   "metadata": {
    "slideshow": {
     "slide_type": "slide"
    }
   },
   "source": [
    "# Public Transport Routing"
   ]
  },
  {
   "cell_type": "markdown",
   "id": "7f896b92",
   "metadata": {
    "slideshow": {
     "slide_type": "fragment"
    }
   },
   "source": [
    "![](assets/otp_screenshot.png)"
   ]
  },
  {
   "cell_type": "markdown",
   "id": "ea2892be-1136-4d81-ab62-ac6ac87b49c1",
   "metadata": {
    "slideshow": {
     "slide_type": "slide"
    }
   },
   "source": [
    "# General Transit Feed Specification (GTFS)\n",
    "\n",
    "- [GTFS Overview](https://developers.google.com/transit/gtfs)\n",
    "- 2006 Initial Release by Google\n",
    "- Multi-Modal Routing"
   ]
  },
  {
   "cell_type": "markdown",
   "id": "c3ea6d99-1723-441d-a82e-c5a3440d3e96",
   "metadata": {
    "slideshow": {
     "slide_type": "slide"
    }
   },
   "source": [
    "![GTFS Schema](assets/gtfs-schema-simplified.png)"
   ]
  },
  {
   "cell_type": "markdown",
   "id": "e4280337-8c93-4335-8a3d-5722aba594c2",
   "metadata": {
    "jp-MarkdownHeadingCollapsed": true,
    "slideshow": {
     "slide_type": "slide"
    },
    "tags": []
   },
   "source": [
    "# Public GTFS Data Sources\n",
    "\n",
    "- [OpenMobilityData.org](https://openmobilitydata.org/) (previously TransitFeeds)\n",
    "- [Transit.land](https://www.transit.land/)\n",
    "- Local Open Data Portals\n",
    "    - [Wiener Linien – Fahrplandaten GTFS Wien](https://www.data.gv.at/katalog/dataset/wiener-linien-fahrplandaten-gtfs-wien)"
   ]
  },
  {
   "cell_type": "markdown",
   "id": "84874b51-fd94-4dc5-8c37-8156382415c4",
   "metadata": {
    "jp-MarkdownHeadingCollapsed": true,
    "slideshow": {
     "slide_type": "slide"
    },
    "tags": []
   },
   "source": [
    "# Public Feeds @ [transit.land](https://www.transit.land/)\n",
    "\n",
    "![Feeds BBox](assets/feeds_bbox.jpg)"
   ]
  },
  {
   "cell_type": "markdown",
   "id": "81f38909-a265-48eb-aa09-37997096c6bb",
   "metadata": {
    "jp-MarkdownHeadingCollapsed": true,
    "slideshow": {
     "slide_type": "slide"
    },
    "tags": []
   },
   "source": [
    "# Coverage Europe\n",
    "\n",
    "![Feeds BBox Europe](assets/feeds_bbox_europe.jpg)"
   ]
  },
  {
   "cell_type": "markdown",
   "id": "30a78efa-227f-472d-affd-c21a6c03cd65",
   "metadata": {
    "slideshow": {
     "slide_type": "slide"
    },
    "tags": []
   },
   "source": [
    "# GTFS Tools"
   ]
  },
  {
   "cell_type": "markdown",
   "id": "881baccc",
   "metadata": {
    "slideshow": {
     "slide_type": "fragment"
    }
   },
   "source": [
    "### Routing\n",
    "\n",
    "- [opentripplanner/OpenTripPlanner](https://github.com/opentripplanner/OpenTripPlanner) (Java)\n",
    "- [conveyal/r5](https://github.com/conveyal/r5) (Java)\n",
    "- [graphhopper/graphhopper](https://github.com/graphhopper/graphhopper) (Java) - _limited GTFS support_"
   ]
  },
  {
   "cell_type": "markdown",
   "id": "f4d1ff37-f33c-41df-81ba-160e2d48421f",
   "metadata": {
    "jp-MarkdownHeadingCollapsed": true,
    "slideshow": {
     "slide_type": "slide"
    },
    "tags": []
   },
   "source": [
    "### Reading and Writing\n",
    "\n",
    "- [triply-at/gtfsutils](https://github.com/triply-at/gtfsutils) (Python)\n",
    "- [remix/partridge](https://github.com/remix/partridge) (Python)\n",
    "- [Pandas](https://pandas.pydata.org/) (Python)\n",
    "- [GeoPandas](https://geopandas.org/) (Python)"
   ]
  },
  {
   "cell_type": "markdown",
   "id": "18100512",
   "metadata": {
    "slideshow": {
     "slide_type": "fragment"
    }
   },
   "source": [
    "### Validation\n",
    "\n",
    "- [MobilityData/gtfs-validator](https://github.com/MobilityData/gtfs-validator) (Java)"
   ]
  },
  {
   "cell_type": "markdown",
   "id": "7783bb68-94db-4d92-b464-8f7e26398301",
   "metadata": {
    "slideshow": {
     "slide_type": "fragment"
    }
   },
   "source": [
    "[CUTR-at-USF/awesome-transit](https://github.com/CUTR-at-USF/awesome-transit) - Community list of transit APIs, apps, datasets, research, and software"
   ]
  },
  {
   "cell_type": "markdown",
   "id": "4786c599",
   "metadata": {
    "slideshow": {
     "slide_type": "slide"
    }
   },
   "source": [
    "# Vienna GTFS ([wienerlinien.at](http://www.wienerlinien.at))"
   ]
  },
  {
   "cell_type": "markdown",
   "id": "7d3b956a",
   "metadata": {
    "slideshow": {
     "slide_type": "fragment"
    }
   },
   "source": [
    "![](assets/vienna_gtfs.jpg)"
   ]
  },
  {
   "cell_type": "markdown",
   "id": "61427708-8d70-49ee-9761-e737d1d5c74f",
   "metadata": {
    "slideshow": {
     "slide_type": "slide"
    }
   },
   "source": [
    "# OpenTripPlanner (OTP)\n",
    "\n",
    "- Build by [Conveyal](https://conveyal.com/) and written in __Java__\n",
    "- [opentripplanner.org](https://www.opentripplanner.org/)\n",
    "- Multimodal Trip Planning"
   ]
  },
  {
   "cell_type": "markdown",
   "id": "3c4a5fbb",
   "metadata": {
    "slideshow": {
     "slide_type": "slide"
    }
   },
   "source": [
    "# OTP Deployment"
   ]
  },
  {
   "cell_type": "markdown",
   "id": "367484de",
   "metadata": {
    "slideshow": {
     "slide_type": "fragment"
    }
   },
   "source": [
    "- Prepare Java 11 and download OTP with:\n",
    "\n",
    "```bash\n",
    "OTP_URL=\"https://repo1.maven.org/maven2/org/opentripplanner\"\n",
    "wget ${OTP_URL}/otp/2.0.0/otp-2.0.0-shaded.jar \\\n",
    "  -qO otp.jar \\\n",
    "chmod +x otp.jar\n",
    "```"
   ]
  },
  {
   "cell_type": "markdown",
   "id": "5eb45597",
   "metadata": {
    "slideshow": {
     "slide_type": "fragment"
    }
   },
   "source": [
    "- Prepare `data` folder with `.osm.pbf` and `.gtfs.zip` files"
   ]
  },
  {
   "cell_type": "markdown",
   "id": "18c5394a",
   "metadata": {
    "slideshow": {
     "slide_type": "fragment"
    }
   },
   "source": [
    "- Run OTP with `10GB` of RAM and on port `8080` on localhost for local data folder `./data`:\n",
    "\n",
    "```bash\n",
    "java -Xmx10G -jar ./otp.jar \\\n",
    "  --build --serve --port 8080 ./data\n",
    "```"
   ]
  },
  {
   "cell_type": "markdown",
   "id": "c73e5e39",
   "metadata": {
    "slideshow": {
     "slide_type": "slide"
    }
   },
   "source": [
    "# OTP API Endpoint"
   ]
  },
  {
   "cell_type": "code",
   "execution_count": 1,
   "id": "237be32a",
   "metadata": {
    "slideshow": {
     "slide_type": "fragment"
    }
   },
   "outputs": [
    {
     "data": {
      "text/plain": [
       "{'serverVersion': {'version': '2.0.0',\n",
       "  'major': 2,\n",
       "  'minor': 0,\n",
       "  'incremental': 0,\n",
       "  'qualifier': '',\n",
       "  'commit': 'a64576040edff06e84033f2e78991a5ba56b2f78',\n",
       "  'branch': 'v2.0.0',\n",
       "  'describe': 'v2.0.0',\n",
       "  'commitTime': '2020-11-27T12:58:18+0000',\n",
       "  'buildTime': '2020-11-27T13:02:08+0000',\n",
       "  'dirty': False,\n",
       "  'longVersionString': 'version: 2.0.0, commit: a64576040edff06e84033f2e78991a5ba56b2f78, branch: v2.0.0',\n",
       "  'shortVersionString': 'OpenTripPlanner 2.0.0 a64576040edff06e84033f2e78991a5ba56b2f78',\n",
       "  'uid': 2000000},\n",
       " 'cpuName': 'Intel(R) Core(TM) i7-5600U CPU @ 2.60GHz',\n",
       " 'nCores': 4}"
      ]
     },
     "execution_count": 1,
     "metadata": {},
     "output_type": "execute_result"
    }
   ],
   "source": [
    "import requests\n",
    "\n",
    "r = requests.get(\"http://localhost:8080/otp\")\n",
    "r.json()"
   ]
  },
  {
   "cell_type": "markdown",
   "id": "bb91559e",
   "metadata": {
    "slideshow": {
     "slide_type": "slide"
    }
   },
   "source": [
    "# OTP Routing\n",
    "\n",
    "- [PlannerResource](http://dev.opentripplanner.org/apidoc/2.0.0/resource_PlannerResource.html) "
   ]
  },
  {
   "cell_type": "code",
   "execution_count": 3,
   "id": "034af81d",
   "metadata": {
    "slideshow": {
     "slide_type": "fragment"
    }
   },
   "outputs": [],
   "source": [
    "import datetime\n",
    "\n",
    "base_url = \"http://localhost:8080/otp/routers/default/plan\"\n",
    "\n",
    "# Vienna Westbahnhof\n",
    "start_point = (48.195822, 16.338451)\n",
    "# Vienna Giant Ferris Wheel\n",
    "end_point = (48.2166, 16.3959)\n",
    "\n",
    "# Departure at 01.04.2022 12:00\n",
    "depart_time = datetime.datetime(2022, 4, 1, 12, 0)\n",
    "\n",
    "r = requests.get(base_url, params={\n",
    "    'fromPlace': \",\".join(map(str, start_point)),\n",
    "    'toPlace': \",\".join(map(str, end_point)),\n",
    "    'date': depart_time.strftime('%d-%m-%Y'),\n",
    "    'time': depart_time.strftime('%H:%M'),\n",
    "    'mode': 'WALK,TRANSIT',\n",
    "    'maxWalkDistance': 1000\n",
    "})\n",
    "\n",
    "data = r.json()"
   ]
  },
  {
   "cell_type": "markdown",
   "id": "4ad35e01",
   "metadata": {
    "slideshow": {
     "slide_type": "slide"
    }
   },
   "source": [
    "# Get Duration for each Itinerary"
   ]
  },
  {
   "cell_type": "code",
   "execution_count": 9,
   "id": "ff9ab2b6",
   "metadata": {
    "slideshow": {
     "slide_type": "fragment"
    }
   },
   "outputs": [
    {
     "name": "stdout",
     "output_type": "stream",
     "text": [
      "Duration for itinerary 0: 1802 seconds\n",
      "Duration for itinerary 1: 1801 seconds\n",
      "Duration for itinerary 2: 1802 seconds\n",
      "Duration for itinerary 3: 1621 seconds\n",
      "Duration for itinerary 4: 1742 seconds\n"
     ]
    }
   ],
   "source": [
    "for i, itinerary in enumerate(data['plan']['itineraries'][:5]):\n",
    "    print(f\"Duration for itinerary {i}: {itinerary['duration']} seconds\")"
   ]
  },
  {
   "cell_type": "markdown",
   "id": "58108db6",
   "metadata": {
    "slideshow": {
     "slide_type": "slide"
    }
   },
   "source": [
    "# Routing with OpenTripPlanner, OpenStreetMap, and GTFS\n",
    "\n",
    "by Nikolai Janakiev [@njanakiev](https://twitter.com/njanakiev/)\n",
    "\n",
    "- [github.com/njanakiev/worlddataleague-workshop](https://github.com/njanakiev/worlddataleague-workshop)"
   ]
  }
 ],
 "metadata": {
  "celltoolbar": "Slideshow",
  "kernelspec": {
   "display_name": "Python 3 (ipykernel)",
   "language": "python",
   "name": "python3"
  },
  "language_info": {
   "codemirror_mode": {
    "name": "ipython",
    "version": 3
   },
   "file_extension": ".py",
   "mimetype": "text/x-python",
   "name": "python",
   "nbconvert_exporter": "python",
   "pygments_lexer": "ipython3",
   "version": "3.9.7"
  }
 },
 "nbformat": 4,
 "nbformat_minor": 5
}
