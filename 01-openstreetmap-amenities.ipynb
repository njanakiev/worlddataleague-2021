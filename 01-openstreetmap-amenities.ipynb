{
 "cells": [
  {
   "cell_type": "markdown",
   "id": "0963cd17-8f6d-489d-ab9f-2fdc253435dd",
   "metadata": {},
   "source": [
    "# OpenStreetMap Amenities"
   ]
  },
  {
   "cell_type": "code",
   "execution_count": 1,
   "id": "c0387596-7ee4-4e19-aac9-0e2d6684f6d0",
   "metadata": {},
   "outputs": [],
   "source": [
    "%matplotlib inline"
   ]
  },
  {
   "cell_type": "code",
   "execution_count": 2,
   "id": "01060cf7-1eea-4fd8-beb0-e5aefa8480a3",
   "metadata": {},
   "outputs": [
    {
     "name": "stdout",
     "output_type": "stream",
     "text": [
      "pandas 1.4.1\n",
      "geopandas 0.10.2\n",
      "matplotlib 3.3.2\n",
      "osmnx 1.1.2\n"
     ]
    }
   ],
   "source": [
    "import requests\n",
    "import numpy as np\n",
    "import pandas as pd\n",
    "import matplotlib as mpl\n",
    "import matplotlib.pyplot as plt\n",
    "import osmnx as ox\n",
    "import geopandas as gpd\n",
    "import osmium\n",
    "\n",
    "for module in [pd, gpd, mpl, ox]:\n",
    "    print(module.__name__, module.__version__)"
   ]
  },
  {
   "cell_type": "markdown",
   "id": "c5a48197-3b84-4cfe-a3af-968857d4862b",
   "metadata": {},
   "source": [
    "# Overpass API\n",
    "\n",
    "- [Overpass API](https://wiki.openstreetmap.org/wiki/Overpass_API)\n",
    "- [Overpass API/Overpass QL](https://wiki.openstreetmap.org/wiki/Overpass_API/Overpass_QL)\n",
    "- [Overpass Turbo](https://overpass-turbo.eu/) query editor\n",
    "- [Loading Data from OpenStreetMap with Python and the Overpass API](https://janakiev.com/blog/openstreetmap-with-python-and-overpass-api/)"
   ]
  },
  {
   "cell_type": "code",
   "execution_count": 3,
   "id": "c4b1544c-8a66-4000-a056-03a731402b86",
   "metadata": {},
   "outputs": [
    {
     "name": "stdout",
     "output_type": "stream",
     "text": [
      "CPU times: user 18.5 ms, sys: 7.73 ms, total: 26.3 ms\n",
      "Wall time: 49.2 s\n"
     ]
    },
    {
     "data": {
      "text/plain": [
       "{'version': 0.6,\n",
       " 'generator': 'Overpass API 0.7.57.1 74a55df1',\n",
       " 'osm3s': {'timestamp_osm_base': '2022-04-02T19:19:13Z',\n",
       "  'timestamp_areas_base': '2022-04-02T18:30:37Z',\n",
       "  'copyright': 'The data included in this document is from www.openstreetmap.org. The data is made available under ODbL.'},\n",
       " 'elements': [{'type': 'count',\n",
       "   'id': 0,\n",
       "   'tags': {'nodes': '12874',\n",
       "    'ways': '6883',\n",
       "    'relations': '186',\n",
       "    'areas': '0',\n",
       "    'total': '19943'}}]}"
      ]
     },
     "execution_count": 3,
     "metadata": {},
     "output_type": "execute_result"
    }
   ],
   "source": [
    "%%time\n",
    "overpass_url = \"http://overpass-api.de/api/interpreter\"\n",
    "overpass_query = \"\"\"\n",
    "    [out:json];\n",
    "    area[\"ISO3166-1\"=\"AT\"][admin_level=2]->.search;\n",
    "    (node[amenity=\"restaurant\"](area.search);\n",
    "     way[amenity=\"restaurant\"](area.search);\n",
    "     rel[amenity=\"restaurant\"](area.search);\n",
    "    );\n",
    "    out count;\n",
    "\"\"\"\n",
    "response = requests.get(overpass_url, params={'data': overpass_query})\n",
    "response.json()"
   ]
  },
  {
   "cell_type": "markdown",
   "id": "b4235b4c-839a-4dcc-a9f5-6c4133fb6edb",
   "metadata": {},
   "source": [
    "# Download OpenStreetMap Extract\n",
    "\n",
    "- __Geofabrik__ ([download.geofabrik.de](http://download.geofabrik.de/))\n",
    "- __BBBike__ [OSM ready extracts](https://download.bbbike.org/osm/bbbike/)\n",
    "    - Vienna data set: https://download.bbbike.org/osm/bbbike/Wien/"
   ]
  },
  {
   "cell_type": "code",
   "execution_count": 4,
   "id": "2589c183-a303-4838-9ee9-4ce4dce79d95",
   "metadata": {},
   "outputs": [],
   "source": [
    "%%bash\n",
    "if [ ! -f \"data/vienna.osm.pbf\" ]; then\n",
    "    wget https://download.bbbike.org/osm/bbbike/Wien/Wien.osm.pbf \\\n",
    "        --quiet -O data/vienna.osm.pbf\n",
    "fi"
   ]
  },
  {
   "cell_type": "markdown",
   "id": "ee624298-8291-41a9-bb3d-103cd7d64341",
   "metadata": {},
   "source": [
    "# PyOsmium\n",
    "\n",
    "- [PyOsmium](https://osmcode.org/pyosmium/)\n",
    "- [PyOsmium - Documentation](https://docs.osmcode.org/pyosmium/latest/index.html)"
   ]
  },
  {
   "cell_type": "code",
   "execution_count": 5,
   "id": "53e76317-2156-47e4-a3fb-e4571771934f",
   "metadata": {},
   "outputs": [],
   "source": [
    "from collections import defaultdict\n",
    "\n",
    "class AmenityStatsHandler(osmium.SimpleHandler):\n",
    "    def __init__(self):\n",
    "        super(AmenityStatsHandler, self).__init__()\n",
    "        self.amenities = defaultdict(int)\n",
    "    \n",
    "    def node(self, n):\n",
    "        for tag in n.tags:\n",
    "            if tag.k == 'amenity':\n",
    "                self.amenities[tag.v] += 1\n",
    "\n",
    "    def way(self, w):\n",
    "        for tag in w.tags:\n",
    "            if tag.k == 'amenity':\n",
    "                self.amenities[tag.v] += 1\n",
    "\n",
    "    def relation(self, r):\n",
    "        for tag in r.tags:\n",
    "            if tag.k == 'amenity':\n",
    "                self.amenities[tag.v] += 1"
   ]
  },
  {
   "cell_type": "code",
   "execution_count": 7,
   "id": "6dabb1b9-ae78-459f-b224-25cc97614a6e",
   "metadata": {},
   "outputs": [
    {
     "name": "stdout",
     "output_type": "stream",
     "text": [
      "CPU times: user 3min 23s, sys: 1 s, total: 3min 24s\n",
      "Wall time: 3min 22s\n"
     ]
    }
   ],
   "source": [
    "%%time\n",
    "src_filepath = \"data/vienna.osm.pbf\"\n",
    "\n",
    "handler = AmenityStatsHandler()\n",
    "handler.apply_file(src_filepath)\n",
    "\n",
    "s_amenities = pd.Series(handler.amenities)"
   ]
  },
  {
   "cell_type": "code",
   "execution_count": 8,
   "id": "0258080c-002d-4697-841a-7a8bcc1692e8",
   "metadata": {},
   "outputs": [
    {
     "data": {
      "image/png": "[encoded data removed]",
      "text/plain": [
       "<Figure size 864x432 with 1 Axes>"
      ]
     },
     "metadata": {
      "needs_background": "light"
     },
     "output_type": "display_data"
    }
   ],
   "source": [
    "s_amenities.sort_values(ascending=False)[:50] \\\n",
    "  .plot(kind='bar', figsize=(12, 6));"
   ]
  },
  {
   "cell_type": "markdown",
   "id": "8b204b47-6a18-47da-aa4a-0449fcbdd774",
   "metadata": {},
   "source": [
    "# ogr2ogr\n",
    "\n",
    "- [ogr2ogr - Documentation](https://gdal.org/programs/ogr2ogr.html)\n",
    "- [ogr2ogr - OSM - OpenStreetMap XML and PBF](https://gdal.org/drivers/vector/osm.html)"
   ]
  },
  {
   "cell_type": "code",
   "execution_count": 9,
   "id": "06052ef9-bc8b-4428-a321-6756fd50b62f",
   "metadata": {},
   "outputs": [
    {
     "name": "stdout",
     "output_type": "stream",
     "text": [
      "INFO: Open of `data/vienna.osm.pbf'\n",
      "      using driver `OSM' successful.\n",
      "1: points (Point)\n",
      "2: lines (Line String)\n",
      "3: multilinestrings (Multi Line String)\n",
      "4: multipolygons (Multi Polygon)\n",
      "5: other_relations (Geometry Collection)\n"
     ]
    }
   ],
   "source": [
    "!ogrinfo data/vienna.osm.pbf"
   ]
  },
  {
   "cell_type": "code",
   "execution_count": 13,
   "id": "2ce1a076-2b48-49e0-b459-186c1531d78c",
   "metadata": {},
   "outputs": [
    {
     "name": "stdout",
     "output_type": "stream",
     "text": [
      "/usr/bin/ogr2ogr\n"
     ]
    }
   ],
   "source": [
    "!which ogr2ogr"
   ]
  },
  {
   "cell_type": "code",
   "execution_count": 17,
   "id": "ffd85285-b6e7-44a4-a041-7f88c1aec947",
   "metadata": {},
   "outputs": [
    {
     "name": "stdout",
     "output_type": "stream",
     "text": [
      "0...10...20...30...40...50...60...70...80...90...100 - done.\n"
     ]
    }
   ],
   "source": [
    "%%bash\n",
    "ogr2ogr -f \"GPKG\" \\\n",
    "    data/vienna-amenities.gpkg \\\n",
    "    data/vienna.osm.pbf \\\n",
    "    -where \"amenity is not null\" \\\n",
    "    POINTS \\\n",
    "    -nln amenity"
   ]
  },
  {
   "cell_type": "code",
   "execution_count": 18,
   "id": "cddce111-21d6-4e8c-9ff4-d12a976e6c82",
   "metadata": {},
   "outputs": [
    {
     "data": {
      "text/html": [
       "<div>\n",
       "<style scoped>\n",
       "    .dataframe tbody tr th:only-of-type {\n",
       "        vertical-align: middle;\n",
       "    }\n",
       "\n",
       "    .dataframe tbody tr th {\n",
       "        vertical-align: top;\n",
       "    }\n",
       "\n",
       "    .dataframe thead th {\n",
       "        text-align: right;\n",
       "    }\n",
       "</style>\n",
       "<table border=\"1\" class=\"dataframe\">\n",
       "  <thead>\n",
       "    <tr style=\"text-align: right;\">\n",
       "      <th></th>\n",
       "      <th>osm_id</th>\n",
       "      <th>name</th>\n",
       "      <th>barrier</th>\n",
       "      <th>highway</th>\n",
       "      <th>ref</th>\n",
       "      <th>address</th>\n",
       "      <th>is_in</th>\n",
       "      <th>place</th>\n",
       "      <th>man_made</th>\n",
       "      <th>amenity</th>\n",
       "      <th>other_tags</th>\n",
       "      <th>geometry</th>\n",
       "    </tr>\n",
       "  </thead>\n",
       "  <tbody>\n",
       "    <tr>\n",
       "      <th>0</th>\n",
       "      <td>1634625</td>\n",
       "      <td>None</td>\n",
       "      <td>None</td>\n",
       "      <td>None</td>\n",
       "      <td>None</td>\n",
       "      <td>None</td>\n",
       "      <td>None</td>\n",
       "      <td>None</td>\n",
       "      <td>None</td>\n",
       "      <td>recycling</td>\n",
       "      <td>\"recycling:glass_bottles\"=&gt;\"yes\",\"recycling:gr...</td>\n",
       "      <td>POINT (16.29701 48.18111)</td>\n",
       "    </tr>\n",
       "    <tr>\n",
       "      <th>1</th>\n",
       "      <td>15079895</td>\n",
       "      <td>None</td>\n",
       "      <td>None</td>\n",
       "      <td>None</td>\n",
       "      <td>None</td>\n",
       "      <td>None</td>\n",
       "      <td>None</td>\n",
       "      <td>None</td>\n",
       "      <td>None</td>\n",
       "      <td>telephone</td>\n",
       "      <td>\"check_date\"=&gt;\"2022-01-23\"</td>\n",
       "      <td>POINT (16.28689 48.19691)</td>\n",
       "    </tr>\n",
       "  </tbody>\n",
       "</table>\n",
       "</div>"
      ],
      "text/plain": [
       "     osm_id  name barrier highway   ref address is_in place man_made  \\\n",
       "0   1634625  None    None    None  None    None  None  None     None   \n",
       "1  15079895  None    None    None  None    None  None  None     None   \n",
       "\n",
       "     amenity                                         other_tags  \\\n",
       "0  recycling  \"recycling:glass_bottles\"=>\"yes\",\"recycling:gr...   \n",
       "1  telephone                         \"check_date\"=>\"2022-01-23\"   \n",
       "\n",
       "                    geometry  \n",
       "0  POINT (16.29701 48.18111)  \n",
       "1  POINT (16.28689 48.19691)  "
      ]
     },
     "execution_count": 18,
     "metadata": {},
     "output_type": "execute_result"
    }
   ],
   "source": [
    "gdf = gpd.read_file(\"data/vienna-amenities.gpkg\", driver='GPKG')\n",
    "gdf.head(2)"
   ]
  },
  {
   "cell_type": "code",
   "execution_count": 19,
   "id": "dffe8899-c1c3-4999-8299-bb11dc0679da",
   "metadata": {},
   "outputs": [
    {
     "data": {
      "text/plain": [
       "bench              11063\n",
       "waste_basket        8861\n",
       "bicycle_parking     5329\n",
       "recycling           3421\n",
       "restaurant          3350\n",
       "hunting_stand       1910\n",
       "vending_machine     1795\n",
       "telephone           1654\n",
       "cafe                1338\n",
       "drinking_water      1213\n",
       "Name: amenity, dtype: int64"
      ]
     },
     "execution_count": 19,
     "metadata": {},
     "output_type": "execute_result"
    }
   ],
   "source": [
    "gdf['amenity'].value_counts()[:10]"
   ]
  },
  {
   "cell_type": "code",
   "execution_count": 20,
   "id": "7ed35523-2c29-4a6c-b413-8a8846cf46cd",
   "metadata": {},
   "outputs": [
    {
     "data": {
      "image/png": "[encoded data removed]",
      "text/plain": [
       "<Figure size 864x432 with 1 Axes>"
      ]
     },
     "metadata": {
      "needs_background": "light"
     },
     "output_type": "display_data"
    }
   ],
   "source": [
    "gdf['amenity'].value_counts()[:50].plot(kind='bar', figsize=(12, 6));"
   ]
  },
  {
   "cell_type": "markdown",
   "id": "fc10e44b-6ce8-47cc-af18-4dca9e99e764",
   "metadata": {},
   "source": [
    "# Resources\n",
    "\n",
    "- [Overpass API](https://wiki.openstreetmap.org/wiki/Overpass_API)\n",
    "- [Overpass API/Overpass QL](https://wiki.openstreetmap.org/wiki/Overpass_API/Overpass_QL)\n",
    "- [Overpass Turbo](https://overpass-turbo.eu/) query editor\n",
    "- [Loading Data from OpenStreetMap with Python and the Overpass API](https://janakiev.com/blog/openstreetmap-with-python-and-overpass-api/)\n",
    "- [PyOsmium](https://osmcode.org/pyosmium/)\n",
    "- [PyOsmium - Documentation](https://docs.osmcode.org/pyosmium/latest/index.html)\n",
    "- [ogr2ogr - Documentation](https://gdal.org/programs/ogr2ogr.html)\n",
    "- [ogr2ogr - OSM - OpenStreetMap XML and PBF](https://gdal.org/drivers/vector/osm.html)"
   ]
  }
 ],
 "metadata": {
  "kernelspec": {
   "display_name": "gis",
   "language": "python",
   "name": "gis"
  },
  "language_info": {
   "codemirror_mode": {
    "name": "ipython",
    "version": 3
   },
   "file_extension": ".py",
   "mimetype": "text/x-python",
   "name": "python",
   "nbconvert_exporter": "python",
   "pygments_lexer": "ipython3",
   "version": "3.9.10"
  }
 },
 "nbformat": 4,
 "nbformat_minor": 5
}
